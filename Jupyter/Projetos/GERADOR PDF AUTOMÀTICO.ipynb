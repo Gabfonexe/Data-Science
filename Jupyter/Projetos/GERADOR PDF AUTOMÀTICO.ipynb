{
 "cells": [
  {
   "cell_type": "markdown",
   "id": "2ec9b54f",
   "metadata": {},
   "source": [
    "# Gerar PDF automático pelo Python"
   ]
  },
  {
   "cell_type": "markdown",
   "id": "17a6475e",
   "metadata": {},
   "source": [
    "#### Definindo o input"
   ]
  },
  {
   "cell_type": "code",
   "execution_count": 39,
   "id": "5906a940",
   "metadata": {},
   "outputs": [
    {
     "name": "stdout",
     "output_type": "stream",
     "text": [
      "Digite a descrição do projeto: Automação AWS\n"
     ]
    }
   ],
   "source": [
    "descricao_projeto = input('Digite a descrição do projeto: ')"
   ]
  },
  {
   "cell_type": "code",
   "execution_count": 40,
   "id": "8b822570",
   "metadata": {},
   "outputs": [
    {
     "name": "stdout",
     "output_type": "stream",
     "text": [
      "Digite o total de horas estimadas: 96\n"
     ]
    }
   ],
   "source": [
    "total_horas = input(\"Digite o total de horas estimadas: \")"
   ]
  },
  {
   "cell_type": "code",
   "execution_count": 41,
   "id": "b304531f",
   "metadata": {},
   "outputs": [
    {
     "name": "stdout",
     "output_type": "stream",
     "text": [
      "Digite o valor da hora trabalhada: 115\n"
     ]
    }
   ],
   "source": [
    "valor_hora = input('Digite o valor da hora trabalhada: ')"
   ]
  },
  {
   "cell_type": "code",
   "execution_count": 42,
   "id": "27ce3434",
   "metadata": {},
   "outputs": [
    {
     "name": "stdout",
     "output_type": "stream",
     "text": [
      "Digite o prazo estimado do projeto: 1 Mês\n"
     ]
    }
   ],
   "source": [
    "prazo = input('Digite o prazo estimado do projeto: ')"
   ]
  },
  {
   "cell_type": "markdown",
   "id": "98d951a0",
   "metadata": {},
   "source": [
    "### Cálculos"
   ]
  },
  {
   "cell_type": "code",
   "execution_count": 43,
   "id": "b7b2eea0",
   "metadata": {},
   "outputs": [
    {
     "name": "stdout",
     "output_type": "stream",
     "text": [
      "11040\n"
     ]
    }
   ],
   "source": [
    "total = int(total_horas) * int(valor_hora)\n",
    "print(total)\n"
   ]
  },
  {
   "cell_type": "markdown",
   "id": "95d8263e",
   "metadata": {},
   "source": [
    "## Gerando o orçamento"
   ]
  },
  {
   "cell_type": "code",
   "execution_count": 18,
   "id": "74f01e28",
   "metadata": {},
   "outputs": [
    {
     "name": "stdout",
     "output_type": "stream",
     "text": [
      "Requirement already satisfied: fpdf in c:\\users\\bielf\\anaconda3\\lib\\site-packages (1.7.2)\n"
     ]
    }
   ],
   "source": [
    "!pip install fpdf"
   ]
  },
  {
   "cell_type": "code",
   "execution_count": null,
   "id": "170c5008",
   "metadata": {},
   "outputs": [],
   "source": [
    "from fpdf import FPDF"
   ]
  },
  {
   "cell_type": "markdown",
   "id": "121861b8",
   "metadata": {},
   "source": [
    "### Criando o PDF"
   ]
  },
  {
   "cell_type": "code",
   "execution_count": 44,
   "id": "59a3f3e5",
   "metadata": {},
   "outputs": [],
   "source": [
    "pdf = FPDF()\n",
    "pdf.add_page()\n",
    "pdf.set_font('Arial')"
   ]
  },
  {
   "cell_type": "markdown",
   "id": "6fb886f9",
   "metadata": {},
   "source": [
    "### Inserindo os dados no PDF"
   ]
  },
  {
   "cell_type": "code",
   "execution_count": 45,
   "id": "0b4b2fb4",
   "metadata": {},
   "outputs": [],
   "source": [
    "# template\n",
    "pdf.image(\"template.png\", x=0, y=0)\n",
    "\n",
    "# inserindo os dados do projeto\n",
    "pdf.text(115, 145, descricao_projeto)\n",
    "pdf.text(115, 160, total_horas)\n",
    "pdf.text(115, 175, valor_hora)\n",
    "pdf.text(115, 190, prazo)\n",
    "pdf.text(115, 205, str(total)) # a função para construir o PDF só permite Strings"
   ]
  },
  {
   "cell_type": "markdown",
   "id": "d538d99b",
   "metadata": {},
   "source": [
    "## Salvando o arquivo"
   ]
  },
  {
   "cell_type": "code",
   "execution_count": 46,
   "id": "0af41de7",
   "metadata": {},
   "outputs": [
    {
     "name": "stdout",
     "output_type": "stream",
     "text": [
      "Orçamento gerado com sucesso !\n"
     ]
    }
   ],
   "source": [
    "pdf.output(\"orçamento.pdf\")\n",
    "print('Orçamento gerado com sucesso !')"
   ]
  },
  {
   "cell_type": "code",
   "execution_count": null,
   "id": "f3fad920",
   "metadata": {},
   "outputs": [],
   "source": []
  },
  {
   "cell_type": "code",
   "execution_count": null,
   "id": "4e3e2f9c",
   "metadata": {},
   "outputs": [],
   "source": []
  },
  {
   "cell_type": "code",
   "execution_count": null,
   "id": "dab99e88",
   "metadata": {},
   "outputs": [],
   "source": []
  }
 ],
 "metadata": {
  "kernelspec": {
   "display_name": "Python 3 (ipykernel)",
   "language": "python",
   "name": "python3"
  },
  "language_info": {
   "codemirror_mode": {
    "name": "ipython",
    "version": 3
   },
   "file_extension": ".py",
   "mimetype": "text/x-python",
   "name": "python",
   "nbconvert_exporter": "python",
   "pygments_lexer": "ipython3",
   "version": "3.11.5"
  }
 },
 "nbformat": 4,
 "nbformat_minor": 5
}
