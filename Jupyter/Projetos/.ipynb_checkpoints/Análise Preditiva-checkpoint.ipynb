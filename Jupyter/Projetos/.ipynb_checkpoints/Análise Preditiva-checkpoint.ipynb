{
 "cells": [
  {
   "cell_type": "markdown",
   "id": "0a6d15e6",
   "metadata": {},
   "source": [
    "- O que vamos aprender:\n",
    "    - utilizar a bilioteca Prophet do Facebook para realizar análises preditivas\n",
    "    - utilizar a biblioteca Yahoo Finance para buscar dados de ações"
   ]
  },
  {
   "cell_type": "markdown",
   "id": "2ae5fac4",
   "metadata": {},
   "source": [
    "- Projeto da aula:\n",
    "    - Prever o valor futuro de uma açã"
   ]
  },
  {
   "cell_type": "markdown",
   "id": "4b0f0421",
   "metadata": {},
   "source": [
    "# Instalando e carregando as bibliotecas"
   ]
  },
  {
   "cell_type": "code",
   "execution_count": 1,
   "id": "5d71e8f9",
   "metadata": {},
   "outputs": [
    {
     "name": "stdout",
     "output_type": "stream",
     "text": [
      "Requirement already satisfied: yfinance in c:\\users\\bielf\\appdata\\roaming\\python\\python311\\site-packages (0.2.36)\n",
      "Collecting prophet\n",
      "  Obtaining dependency information for prophet from https://files.pythonhosted.org/packages/24/2b/834e9a347f2f0161e32a3c6125b8a1ebdf6ac33199a0ed3a0bdf1f0c296f/prophet-1.1.5-py3-none-win_amd64.whl.metadata\n",
      "  Downloading prophet-1.1.5-py3-none-win_amd64.whl.metadata (3.6 kB)\n",
      "Requirement already satisfied: pandas>=1.3.0 in c:\\users\\bielf\\appdata\\roaming\\python\\python311\\site-packages (from yfinance) (2.2.0)\n",
      "Requirement already satisfied: numpy>=1.16.5 in c:\\users\\bielf\\appdata\\roaming\\python\\python311\\site-packages (from yfinance) (1.26.3)\n",
      "Requirement already satisfied: requests>=2.31 in c:\\users\\bielf\\appdata\\roaming\\python\\python311\\site-packages (from yfinance) (2.31.0)\n",
      "Requirement already satisfied: multitasking>=0.0.7 in c:\\users\\bielf\\appdata\\roaming\\python\\python311\\site-packages (from yfinance) (0.0.11)\n",
      "Requirement already satisfied: lxml>=4.9.1 in c:\\users\\bielf\\appdata\\roaming\\python\\python311\\site-packages (from yfinance) (5.1.0)\n",
      "Requirement already satisfied: appdirs>=1.4.4 in c:\\users\\bielf\\appdata\\roaming\\python\\python311\\site-packages (from yfinance) (1.4.4)\n",
      "Requirement already satisfied: pytz>=2022.5 in c:\\users\\bielf\\appdata\\roaming\\python\\python311\\site-packages (from yfinance) (2023.3.post1)\n",
      "Requirement already satisfied: frozendict>=2.3.4 in c:\\users\\bielf\\appdata\\roaming\\python\\python311\\site-packages (from yfinance) (2.4.0)\n",
      "Requirement already satisfied: peewee>=3.16.2 in c:\\users\\bielf\\appdata\\roaming\\python\\python311\\site-packages (from yfinance) (3.17.0)\n",
      "Requirement already satisfied: beautifulsoup4>=4.11.1 in c:\\users\\bielf\\appdata\\roaming\\python\\python311\\site-packages (from yfinance) (4.12.3)\n",
      "Requirement already satisfied: html5lib>=1.1 in c:\\users\\bielf\\appdata\\roaming\\python\\python311\\site-packages (from yfinance) (1.1)\n",
      "Collecting cmdstanpy>=1.0.4 (from prophet)\n",
      "  Obtaining dependency information for cmdstanpy>=1.0.4 from https://files.pythonhosted.org/packages/e8/e2/2ddc273e726680a3c816f9a05c6726d57d61820fa7ab4753ed282d0a8bbe/cmdstanpy-1.2.0-py3-none-any.whl.metadata\n",
      "  Downloading cmdstanpy-1.2.0-py3-none-any.whl.metadata (3.9 kB)\n",
      "Requirement already satisfied: matplotlib>=2.0.0 in c:\\users\\bielf\\anaconda3\\lib\\site-packages (from prophet) (3.7.2)\n",
      "Collecting holidays>=0.25 (from prophet)\n",
      "  Obtaining dependency information for holidays>=0.25 from https://files.pythonhosted.org/packages/ca/41/b78b8e03730c0f7b8d7a16bc8bc107406a2ec968c2dc40358d4a6e59da1b/holidays-0.41-py3-none-any.whl.metadata\n",
      "  Downloading holidays-0.41-py3-none-any.whl.metadata (21 kB)\n",
      "Requirement already satisfied: tqdm>=4.36.1 in c:\\users\\bielf\\appdata\\roaming\\python\\python311\\site-packages (from prophet) (4.66.1)\n",
      "Collecting importlib-resources (from prophet)\n",
      "  Obtaining dependency information for importlib-resources from https://files.pythonhosted.org/packages/93/e8/facde510585869b5ec694e8e0363ffe4eba067cb357a8398a55f6a1f8023/importlib_resources-6.1.1-py3-none-any.whl.metadata\n",
      "  Downloading importlib_resources-6.1.1-py3-none-any.whl.metadata (4.1 kB)\n",
      "Requirement already satisfied: soupsieve>1.2 in c:\\users\\bielf\\appdata\\roaming\\python\\python311\\site-packages (from beautifulsoup4>=4.11.1->yfinance) (2.5)\n",
      "Collecting stanio~=0.3.0 (from cmdstanpy>=1.0.4->prophet)\n",
      "  Obtaining dependency information for stanio~=0.3.0 from https://files.pythonhosted.org/packages/26/01/e2579afa3ad1eade8b54bf5b9e45790d219681b1f8f97edbd2f18c4e1a7d/stanio-0.3.0-py3-none-any.whl.metadata\n",
      "  Downloading stanio-0.3.0-py3-none-any.whl.metadata (963 bytes)\n",
      "Requirement already satisfied: python-dateutil in c:\\users\\bielf\\appdata\\roaming\\python\\python311\\site-packages (from holidays>=0.25->prophet) (2.8.2)\n",
      "Requirement already satisfied: six>=1.9 in c:\\users\\bielf\\appdata\\roaming\\python\\python311\\site-packages (from html5lib>=1.1->yfinance) (1.16.0)\n",
      "Requirement already satisfied: webencodings in c:\\users\\bielf\\appdata\\roaming\\python\\python311\\site-packages (from html5lib>=1.1->yfinance) (0.5.1)\n",
      "Requirement already satisfied: contourpy>=1.0.1 in c:\\users\\bielf\\anaconda3\\lib\\site-packages (from matplotlib>=2.0.0->prophet) (1.0.5)\n",
      "Requirement already satisfied: cycler>=0.10 in c:\\users\\bielf\\anaconda3\\lib\\site-packages (from matplotlib>=2.0.0->prophet) (0.11.0)\n",
      "Requirement already satisfied: fonttools>=4.22.0 in c:\\users\\bielf\\anaconda3\\lib\\site-packages (from matplotlib>=2.0.0->prophet) (4.25.0)\n",
      "Requirement already satisfied: kiwisolver>=1.0.1 in c:\\users\\bielf\\anaconda3\\lib\\site-packages (from matplotlib>=2.0.0->prophet) (1.4.4)\n",
      "Requirement already satisfied: packaging>=20.0 in c:\\users\\bielf\\anaconda3\\lib\\site-packages (from matplotlib>=2.0.0->prophet) (23.1)\n",
      "Requirement already satisfied: pillow>=6.2.0 in c:\\users\\bielf\\appdata\\roaming\\python\\python311\\site-packages (from matplotlib>=2.0.0->prophet) (10.2.0)\n",
      "Requirement already satisfied: pyparsing<3.1,>=2.3.1 in c:\\users\\bielf\\anaconda3\\lib\\site-packages (from matplotlib>=2.0.0->prophet) (3.0.9)\n",
      "Requirement already satisfied: tzdata>=2022.7 in c:\\users\\bielf\\appdata\\roaming\\python\\python311\\site-packages (from pandas>=1.3.0->yfinance) (2023.4)\n",
      "Requirement already satisfied: charset-normalizer<4,>=2 in c:\\users\\bielf\\appdata\\roaming\\python\\python311\\site-packages (from requests>=2.31->yfinance) (3.3.2)\n",
      "Requirement already satisfied: idna<4,>=2.5 in c:\\users\\bielf\\appdata\\roaming\\python\\python311\\site-packages (from requests>=2.31->yfinance) (3.6)\n",
      "Requirement already satisfied: urllib3<3,>=1.21.1 in c:\\users\\bielf\\appdata\\roaming\\python\\python311\\site-packages (from requests>=2.31->yfinance) (2.1.0)\n",
      "Requirement already satisfied: certifi>=2017.4.17 in c:\\users\\bielf\\appdata\\roaming\\python\\python311\\site-packages (from requests>=2.31->yfinance) (2023.11.17)\n",
      "Requirement already satisfied: colorama in c:\\users\\bielf\\appdata\\roaming\\python\\python311\\site-packages (from tqdm>=4.36.1->prophet) (0.4.6)\n",
      "Downloading prophet-1.1.5-py3-none-win_amd64.whl (13.3 MB)\n",
      "   ---------------------------------------- 0.0/13.3 MB ? eta -:--:--\n",
      "   -- ------------------------------------- 0.7/13.3 MB 22.5 MB/s eta 0:00:01\n",
      "   -------- ------------------------------- 2.9/13.3 MB 37.7 MB/s eta 0:00:01\n",
      "   ------------ --------------------------- 4.2/13.3 MB 44.4 MB/s eta 0:00:01\n",
      "   ------------ --------------------------- 4.2/13.3 MB 44.4 MB/s eta 0:00:01\n",
      "   ------------ --------------------------- 4.2/13.3 MB 44.4 MB/s eta 0:00:01\n",
      "   ----------------- ---------------------- 5.9/13.3 MB 22.1 MB/s eta 0:00:01\n",
      "   ------------------------- -------------- 8.4/13.3 MB 26.8 MB/s eta 0:00:01\n",
      "   ------------------------- -------------- 8.4/13.3 MB 26.8 MB/s eta 0:00:01\n",
      "   ------------------------- -------------- 8.4/13.3 MB 26.8 MB/s eta 0:00:01\n",
      "   ------------------------- -------------- 8.4/13.3 MB 26.8 MB/s eta 0:00:01\n",
      "   ------------------------- -------------- 8.4/13.3 MB 26.8 MB/s eta 0:00:01\n",
      "   ------------------------- -------------- 8.4/13.3 MB 26.8 MB/s eta 0:00:01\n",
      "   ------------------------- -------------- 8.4/13.3 MB 26.8 MB/s eta 0:00:01\n",
      "   ------------------------- -------------- 8.4/13.3 MB 26.8 MB/s eta 0:00:01\n",
      "   -------------------------- ------------- 8.7/13.3 MB 12.7 MB/s eta 0:00:01\n",
      "   ---------------------------- ----------- 9.4/13.3 MB 13.4 MB/s eta 0:00:01\n",
      "   ---------------------------- ----------- 9.4/13.3 MB 13.4 MB/s eta 0:00:01\n",
      "   ---------------------------- ----------- 9.6/13.3 MB 11.6 MB/s eta 0:00:01\n",
      "   ---------------------------------- ----- 11.5/13.3 MB 12.6 MB/s eta 0:00:01\n",
      "   ---------------------------------- ----- 11.5/13.3 MB 12.6 MB/s eta 0:00:01\n",
      "   ---------------------------------- ----- 11.5/13.3 MB 12.6 MB/s eta 0:00:01\n",
      "   ---------------------------------- ----- 11.5/13.3 MB 12.6 MB/s eta 0:00:01\n",
      "   ---------------------------------- ----- 11.5/13.3 MB 12.6 MB/s eta 0:00:01\n",
      "   ---------------------------------- ----- 11.5/13.3 MB 12.6 MB/s eta 0:00:01\n",
      "   ---------------------------------- ----- 11.5/13.3 MB 12.6 MB/s eta 0:00:01\n",
      "   ---------------------------------- ----- 11.5/13.3 MB 12.6 MB/s eta 0:00:01\n",
      "   ---------------------------------- ----- 11.5/13.3 MB 12.6 MB/s eta 0:00:01\n",
      "   ---------------------------------- ----- 11.5/13.3 MB 12.6 MB/s eta 0:00:01\n",
      "   ---------------------------------- ----- 11.5/13.3 MB 12.6 MB/s eta 0:00:01\n",
      "   -------------------------------------- - 12.8/13.3 MB 7.7 MB/s eta 0:00:01\n",
      "   ---------------------------------------- 13.3/13.3 MB 7.5 MB/s eta 0:00:00\n",
      "Downloading cmdstanpy-1.2.0-py3-none-any.whl (93 kB)\n",
      "   ---------------------------------------- 0.0/93.0 kB ? eta -:--:--\n",
      "   ---------------------------------------- 93.0/93.0 kB ? eta 0:00:00\n",
      "Downloading holidays-0.41-py3-none-any.whl (913 kB)\n",
      "   ---------------------------------------- 0.0/913.1 kB ? eta -:--:--\n",
      "   --------------------------------------- 913.1/913.1 kB 60.2 MB/s eta 0:00:00\n",
      "Downloading importlib_resources-6.1.1-py3-none-any.whl (33 kB)\n",
      "Downloading stanio-0.3.0-py3-none-any.whl (6.2 kB)\n",
      "Installing collected packages: stanio, importlib-resources, holidays, cmdstanpy, prophet\n",
      "Successfully installed cmdstanpy-1.2.0 holidays-0.41 importlib-resources-6.1.1 prophet-1.1.5 stanio-0.3.0\n"
     ]
    }
   ],
   "source": [
    "! pip install yfinance prophet"
   ]
  },
  {
   "cell_type": "code",
   "execution_count": 3,
   "id": "9a679f7d",
   "metadata": {},
   "outputs": [],
   "source": [
    "import yfinance  as yf\n",
    "from prophet import Prophet\n",
    "from prophet.plot import plot_plotly"
   ]
  },
  {
   "cell_type": "markdown",
   "id": "07a1b12a",
   "metadata": {},
   "source": [
    "# Carregando os dados históricos\n"
   ]
  },
  {
   "cell_type": "code",
   "execution_count": 4,
   "id": "0575b99e",
   "metadata": {},
   "outputs": [
    {
     "name": "stdout",
     "output_type": "stream",
     "text": [
      "Digite o código da ação: PETR4.SA\n"
     ]
    },
    {
     "name": "stderr",
     "output_type": "stream",
     "text": [
      "C:\\Users\\bielf\\AppData\\Roaming\\Python\\Python311\\site-packages\\yfinance\\utils.py:775: FutureWarning: The 'unit' keyword in TimedeltaIndex construction is deprecated and will be removed in a future version. Use pd.to_timedelta instead.\n",
      "  df.index += _pd.TimedeltaIndex(dst_error_hours, 'h')\n"
     ]
    }
   ],
   "source": [
    "ticker = input(\"Digite o código da ação: \")\n",
    "dados = yf.Ticker(ticker).history('2y')"
   ]
  },
  {
   "cell_type": "markdown",
   "id": "30a2a561",
   "metadata": {},
   "source": [
    "# Gráfico da variação do período histórico"
   ]
  },
  {
   "cell_type": "code",
   "execution_count": 10,
   "id": "34d33f3d",
   "metadata": {},
   "outputs": [
    {
     "data": {
      "text/plain": [
       "<Axes: xlabel='Date'>"
      ]
     },
     "execution_count": 10,
     "metadata": {},
     "output_type": "execute_result"
    },
    {
     "data": {
      "image/png": "[encoded data removed]",
      "text/plain": [
       "<Figure size 640x480 with 1 Axes>"
      ]
     },
     "metadata": {},
     "output_type": "display_data"
    }
   ],
   "source": [
    "dados.Close.plot()\n",
    "# o \"close\" é a coluna de fechamento da tabela da ação analisada"
   ]
  },
  {
   "cell_type": "markdown",
   "id": "c6890e47",
   "metadata": {},
   "source": [
    "# Preparando os dados de treinamento"
   ]
  },
  {
   "cell_type": "code",
   "execution_count": null,
   "id": "5fce90ed",
   "metadata": {},
   "outputs": [],
   "source": [
    "# Resetando o índice do DataFrame\n",
    "treinamento = dados.reset_index()"
   ]
  },
  {
   "cell_type": "code",
   "execution_count": null,
   "id": "528eb28f",
   "metadata": {},
   "outputs": [],
   "source": [
    "# Retirando o timezone (fuso horário) da coluna de data\n",
    "treinamento[\"Date\"] = treinamento[\"Date\"].dt.tz_localize(None)"
   ]
  },
  {
   "cell_type": "code",
   "execution_count": null,
   "id": "8d7476bf",
   "metadata": {},
   "outputs": [],
   "source": [
    "# Selecionando as colunas de data e valor de fechamento\n",
    "treinamento = treinamento[['Date', 'Close']]"
   ]
  },
  {
   "cell_type": "code",
   "execution_count": null,
   "id": "d30b569a",
   "metadata": {},
   "outputs": [],
   "source": [
    "# Renomeando as colunas (o Prophet precisa receber os dados com esse padrão)\n",
    "treinamento.columns = ['ds', 'y']"
   ]
  },
  {
   "cell_type": "markdown",
   "id": "214aa7a2",
   "metadata": {},
   "source": [
    "# Treinando o nosso modelo\n"
   ]
  },
  {
   "cell_type": "code",
   "execution_count": null,
   "id": "5156bca1",
   "metadata": {},
   "outputs": [],
   "source": [
    "# Criando o modelo\n",
    "modelo = Prophet()"
   ]
  },
  {
   "cell_type": "code",
   "execution_count": null,
   "id": "70f8bc41",
   "metadata": {},
   "outputs": [],
   "source": [
    "# Treinando o modelo com os dados de treinamento\n",
    "modelo.fit(treinamento)"
   ]
  },
  {
   "cell_type": "code",
   "execution_count": null,
   "id": "26d49909",
   "metadata": {},
   "outputs": [],
   "source": [
    "# Especificando o período das previsões (em dias)\n",
    "periodo = modelo.make_future_dataframe(periods=90)"
   ]
  },
  {
   "cell_type": "code",
   "execution_count": null,
   "id": "5bb69010",
   "metadata": {},
   "outputs": [],
   "source": [
    "# Gerando as previsões\n",
    "previsoes = modelo.predict(periodo)"
   ]
  },
  {
   "cell_type": "markdown",
   "id": "6da8349c",
   "metadata": {},
   "source": [
    "# Gerando o gráfico de previsões"
   ]
  },
  {
   "cell_type": "code",
   "execution_count": null,
   "id": "e7e862c9",
   "metadata": {},
   "outputs": [],
   "source": [
    "plot_plotly(modelo, previsoes, xlabel = \"período\", ylabel=\"valor\")"
   ]
  }
 ],
 "metadata": {
  "kernelspec": {
   "display_name": "Python 3 (ipykernel)",
   "language": "python",
   "name": "python3"
  },
  "language_info": {
   "codemirror_mode": {
    "name": "ipython",
    "version": 3
   },
   "file_extension": ".py",
   "mimetype": "text/x-python",
   "name": "python",
   "nbconvert_exporter": "python",
   "pygments_lexer": "ipython3",
   "version": "3.11.5"
  }
 },
 "nbformat": 4,
 "nbformat_minor": 5
}
