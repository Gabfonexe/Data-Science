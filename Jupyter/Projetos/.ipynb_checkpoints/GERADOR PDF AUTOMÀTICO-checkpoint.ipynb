{
 "cells": [
  {
   "cell_type": "markdown",
   "id": "312c64de",
   "metadata": {},
   "source": [
    "# Gerar PDF automático pelo Python"
   ]
  },
  {
   "cell_type": "markdown",
   "id": "ce698966",
   "metadata": {},
   "source": [
    "#### Definindo o input"
   ]
  },
  {
   "cell_type": "code",
   "execution_count": 2,
   "id": "c16d3f43",
   "metadata": {},
   "outputs": [
    {
     "name": "stdout",
     "output_type": "stream",
     "text": [
      "Digite a descrição do projeto: ovo\n"
     ]
    }
   ],
   "source": [
    "descricao_projeto = input('Digite a descrição do projeto: ')"
   ]
  },
  {
   "cell_type": "code",
   "execution_count": 9,
   "id": "6a807386",
   "metadata": {},
   "outputs": [
    {
     "name": "stdout",
     "output_type": "stream",
     "text": [
      "Digite o total de horas estimadas: 20\n"
     ]
    }
   ],
   "source": [
    "total_horas = input(\"Digite o total de horas estimadas: \")"
   ]
  },
  {
   "cell_type": "code",
   "execution_count": 4,
   "id": "aff9e139",
   "metadata": {},
   "outputs": [
    {
     "name": "stdout",
     "output_type": "stream",
     "text": [
      "Digite o valor da hora trabalhada: 190\n"
     ]
    }
   ],
   "source": [
    "valor_hora = input('Digite o valor da hora trabalhada: ')"
   ]
  },
  {
   "cell_type": "code",
   "execution_count": 5,
   "id": "4265c275",
   "metadata": {},
   "outputs": [
    {
     "name": "stdout",
     "output_type": "stream",
     "text": [
      "Digite o prazo estimado do projeto: 2 meses\n"
     ]
    }
   ],
   "source": [
    "prazo = input('Digite o prazo estimado do projeto: ')"
   ]
  },
  {
   "cell_type": "markdown",
   "id": "76cab1ce",
   "metadata": {},
   "source": [
    "### Cálculos"
   ]
  },
  {
   "cell_type": "code",
   "execution_count": 10,
   "id": "44206b92",
   "metadata": {},
   "outputs": [
    {
     "name": "stdout",
     "output_type": "stream",
     "text": [
      "3800\n"
     ]
    }
   ],
   "source": [
    "total = int(total_horas) * int(valor_hora)\n",
    "print(total)\n"
   ]
  },
  {
   "cell_type": "markdown",
   "id": "876b7e9b",
   "metadata": {},
   "source": [
    "## Gerando o orçamento"
   ]
  },
  {
   "cell_type": "code",
   "execution_count": 18,
   "id": "feb836a9",
   "metadata": {},
   "outputs": [
    {
     "name": "stdout",
     "output_type": "stream",
     "text": [
      "Requirement already satisfied: fpdf in c:\\users\\bielf\\anaconda3\\lib\\site-packages (1.7.2)\n"
     ]
    }
   ],
   "source": [
    "!pip install fpdf"
   ]
  },
  {
   "cell_type": "code",
   "execution_count": null,
   "id": "7b78cbf7",
   "metadata": {},
   "outputs": [],
   "source": [
    "from fpdf import FPDF"
   ]
  },
  {
   "cell_type": "markdown",
   "id": "dfb84055",
   "metadata": {},
   "source": [
    "### Criando o PDF"
   ]
  },
  {
   "cell_type": "code",
   "execution_count": 20,
   "id": "56d892d8",
   "metadata": {},
   "outputs": [],
   "source": [
    "pdf = FPDF()\n",
    "pdf.add_page()\n",
    "pdf.set_font('Arial')"
   ]
  },
  {
   "cell_type": "markdown",
   "id": "915af159",
   "metadata": {},
   "source": [
    "### Inserindo os dados no PDF"
   ]
  },
  {
   "cell_type": "code",
   "execution_count": 28,
   "id": "33c76f7c",
   "metadata": {},
   "outputs": [],
   "source": [
    "# template\n",
    "pdf.image(\"template.png\", x=0, y=0)\n",
    "\n",
    "# inserindo os dados do projeto\n",
    "pdf.text(115, 145, descricao_projeto)\n",
    "pdf.text(115, 160, total_horas)\n",
    "pdf.text(115, 175, valor_hora)\n",
    "pdf.text(115, 190, prazo)\n",
    "pdf.text(115, 205, str(total)) # a função para construir o PDF só permite Strings"
   ]
  },
  {
   "cell_type": "markdown",
   "id": "0d4f71b8",
   "metadata": {},
   "source": [
    "## Salvando o arquivo"
   ]
  },
  {
   "cell_type": "code",
   "execution_count": null,
   "id": "2460e778",
   "metadata": {},
   "outputs": [],
   "source": [
    "pdf.output(\"orçamento.pdf\")\n",
    "print('Orçamento gerado com sucesso !')"
   ]
  },
  {
   "cell_type": "code",
   "execution_count": null,
   "id": "541d9d45",
   "metadata": {},
   "outputs": [],
   "source": []
  },
  {
   "cell_type": "code",
   "execution_count": null,
   "id": "f0195ce3",
   "metadata": {},
   "outputs": [],
   "source": []
  },
  {
   "cell_type": "code",
   "execution_count": null,
   "id": "8c94d625",
   "metadata": {},
   "outputs": [],
   "source": []
  }
 ],
 "metadata": {
  "kernelspec": {
   "display_name": "Python 3 (ipykernel)",
   "language": "python",
   "name": "python3"
  },
  "language_info": {
   "codemirror_mode": {
    "name": "ipython",
    "version": 3
   },
   "file_extension": ".py",
   "mimetype": "text/x-python",
   "name": "python",
   "nbconvert_exporter": "python",
   "pygments_lexer": "ipython3",
   "version": "3.11.5"
  }
 },
 "nbformat": 4,
 "nbformat_minor": 5
}
